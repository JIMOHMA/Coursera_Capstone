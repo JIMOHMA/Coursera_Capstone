{
 "cells": [
  {
   "cell_type": "markdown",
   "metadata": {},
   "source": [
    "### Exploring and Clustering of Neighborhoods in Toronto."
   ]
  },
  {
   "cell_type": "markdown",
   "metadata": {},
   "source": [
    "# OBTAINING DATAFRAME FROM WIKIPEDIA URL"
   ]
  },
  {
   "cell_type": "code",
   "execution_count": 1,
   "metadata": {},
   "outputs": [],
   "source": [
    "import numpy as np \n",
    "import pandas as pd"
   ]
  },
  {
   "cell_type": "code",
   "execution_count": 2,
   "metadata": {},
   "outputs": [
    {
     "data": {
      "text/plain": [
       "3"
      ]
     },
     "execution_count": 2,
     "metadata": {},
     "output_type": "execute_result"
    }
   ],
   "source": [
    "wikipedia_url = 'https://en.wikipedia.org/wiki/List_of_postal_codes_of_Canada:_M'\n",
    "dfs =  pd.read_html(wikipedia_url)\n",
    "len(dfs)"
   ]
  },
  {
   "cell_type": "code",
   "execution_count": 3,
   "metadata": {},
   "outputs": [
    {
     "data": {
      "text/plain": [
       "(180, 3)"
      ]
     },
     "execution_count": 3,
     "metadata": {},
     "output_type": "execute_result"
    }
   ],
   "source": [
    "dfs[0].shape"
   ]
  },
  {
   "cell_type": "markdown",
   "metadata": {},
   "source": [
    "### The table we need is the first table from the wikipedia url, hence dfs[0]"
   ]
  },
  {
   "cell_type": "code",
   "execution_count": 4,
   "metadata": {},
   "outputs": [
    {
     "data": {
      "text/html": [
       "<div>\n",
       "<style scoped>\n",
       "    .dataframe tbody tr th:only-of-type {\n",
       "        vertical-align: middle;\n",
       "    }\n",
       "\n",
       "    .dataframe tbody tr th {\n",
       "        vertical-align: top;\n",
       "    }\n",
       "\n",
       "    .dataframe thead th {\n",
       "        text-align: right;\n",
       "    }\n",
       "</style>\n",
       "<table border=\"1\" class=\"dataframe\">\n",
       "  <thead>\n",
       "    <tr style=\"text-align: right;\">\n",
       "      <th></th>\n",
       "      <th>Postal Code</th>\n",
       "      <th>Borough</th>\n",
       "      <th>Neighbourhood</th>\n",
       "    </tr>\n",
       "  </thead>\n",
       "  <tbody>\n",
       "    <tr>\n",
       "      <th>175</th>\n",
       "      <td>M5Z</td>\n",
       "      <td>Not assigned</td>\n",
       "      <td>Not assigned</td>\n",
       "    </tr>\n",
       "    <tr>\n",
       "      <th>176</th>\n",
       "      <td>M6Z</td>\n",
       "      <td>Not assigned</td>\n",
       "      <td>Not assigned</td>\n",
       "    </tr>\n",
       "    <tr>\n",
       "      <th>177</th>\n",
       "      <td>M7Z</td>\n",
       "      <td>Not assigned</td>\n",
       "      <td>Not assigned</td>\n",
       "    </tr>\n",
       "    <tr>\n",
       "      <th>178</th>\n",
       "      <td>M8Z</td>\n",
       "      <td>Etobicoke</td>\n",
       "      <td>Mimico NW, The Queensway West, South of Bloor,...</td>\n",
       "    </tr>\n",
       "    <tr>\n",
       "      <th>179</th>\n",
       "      <td>M9Z</td>\n",
       "      <td>Not assigned</td>\n",
       "      <td>Not assigned</td>\n",
       "    </tr>\n",
       "  </tbody>\n",
       "</table>\n",
       "</div>"
      ],
      "text/plain": [
       "    Postal Code       Borough  \\\n",
       "175         M5Z  Not assigned   \n",
       "176         M6Z  Not assigned   \n",
       "177         M7Z  Not assigned   \n",
       "178         M8Z     Etobicoke   \n",
       "179         M9Z  Not assigned   \n",
       "\n",
       "                                         Neighbourhood  \n",
       "175                                       Not assigned  \n",
       "176                                       Not assigned  \n",
       "177                                       Not assigned  \n",
       "178  Mimico NW, The Queensway West, South of Bloor,...  \n",
       "179                                       Not assigned  "
      ]
     },
     "execution_count": 4,
     "metadata": {},
     "output_type": "execute_result"
    }
   ],
   "source": [
    "toronto_neighborhood = dfs[0]\n",
    "toronto_neighborhood.tail()"
   ]
  },
  {
   "cell_type": "code",
   "execution_count": 5,
   "metadata": {},
   "outputs": [
    {
     "data": {
      "text/plain": [
       "Index(['Postal Code', 'Borough', 'Neighbourhood'], dtype='object')"
      ]
     },
     "execution_count": 5,
     "metadata": {},
     "output_type": "execute_result"
    }
   ],
   "source": [
    "toronto_neighborhood.columns"
   ]
  },
  {
   "cell_type": "code",
   "execution_count": 6,
   "metadata": {},
   "outputs": [
    {
     "data": {
      "text/html": [
       "<div>\n",
       "<style scoped>\n",
       "    .dataframe tbody tr th:only-of-type {\n",
       "        vertical-align: middle;\n",
       "    }\n",
       "\n",
       "    .dataframe tbody tr th {\n",
       "        vertical-align: top;\n",
       "    }\n",
       "\n",
       "    .dataframe thead th {\n",
       "        text-align: right;\n",
       "    }\n",
       "</style>\n",
       "<table border=\"1\" class=\"dataframe\">\n",
       "  <thead>\n",
       "    <tr style=\"text-align: right;\">\n",
       "      <th></th>\n",
       "      <th>Postal Code</th>\n",
       "      <th>Borough</th>\n",
       "      <th>Neighbourhood</th>\n",
       "    </tr>\n",
       "  </thead>\n",
       "  <tbody>\n",
       "    <tr>\n",
       "      <th>2</th>\n",
       "      <td>M3A</td>\n",
       "      <td>North York</td>\n",
       "      <td>Parkwoods</td>\n",
       "    </tr>\n",
       "    <tr>\n",
       "      <th>3</th>\n",
       "      <td>M4A</td>\n",
       "      <td>North York</td>\n",
       "      <td>Victoria Village</td>\n",
       "    </tr>\n",
       "    <tr>\n",
       "      <th>4</th>\n",
       "      <td>M5A</td>\n",
       "      <td>Downtown Toronto</td>\n",
       "      <td>Regent Park, Harbourfront</td>\n",
       "    </tr>\n",
       "    <tr>\n",
       "      <th>5</th>\n",
       "      <td>M6A</td>\n",
       "      <td>North York</td>\n",
       "      <td>Lawrence Manor, Lawrence Heights</td>\n",
       "    </tr>\n",
       "    <tr>\n",
       "      <th>6</th>\n",
       "      <td>M7A</td>\n",
       "      <td>Downtown Toronto</td>\n",
       "      <td>Queen's Park, Ontario Provincial Government</td>\n",
       "    </tr>\n",
       "    <tr>\n",
       "      <th>...</th>\n",
       "      <td>...</td>\n",
       "      <td>...</td>\n",
       "      <td>...</td>\n",
       "    </tr>\n",
       "    <tr>\n",
       "      <th>160</th>\n",
       "      <td>M8X</td>\n",
       "      <td>Etobicoke</td>\n",
       "      <td>The Kingsway, Montgomery Road, Old Mill North</td>\n",
       "    </tr>\n",
       "    <tr>\n",
       "      <th>165</th>\n",
       "      <td>M4Y</td>\n",
       "      <td>Downtown Toronto</td>\n",
       "      <td>Church and Wellesley</td>\n",
       "    </tr>\n",
       "    <tr>\n",
       "      <th>168</th>\n",
       "      <td>M7Y</td>\n",
       "      <td>East Toronto</td>\n",
       "      <td>Business reply mail Processing Centre, South C...</td>\n",
       "    </tr>\n",
       "    <tr>\n",
       "      <th>169</th>\n",
       "      <td>M8Y</td>\n",
       "      <td>Etobicoke</td>\n",
       "      <td>Old Mill South, King's Mill Park, Sunnylea, Hu...</td>\n",
       "    </tr>\n",
       "    <tr>\n",
       "      <th>178</th>\n",
       "      <td>M8Z</td>\n",
       "      <td>Etobicoke</td>\n",
       "      <td>Mimico NW, The Queensway West, South of Bloor,...</td>\n",
       "    </tr>\n",
       "  </tbody>\n",
       "</table>\n",
       "<p>103 rows × 3 columns</p>\n",
       "</div>"
      ],
      "text/plain": [
       "    Postal Code           Borough  \\\n",
       "2           M3A        North York   \n",
       "3           M4A        North York   \n",
       "4           M5A  Downtown Toronto   \n",
       "5           M6A        North York   \n",
       "6           M7A  Downtown Toronto   \n",
       "..          ...               ...   \n",
       "160         M8X         Etobicoke   \n",
       "165         M4Y  Downtown Toronto   \n",
       "168         M7Y      East Toronto   \n",
       "169         M8Y         Etobicoke   \n",
       "178         M8Z         Etobicoke   \n",
       "\n",
       "                                         Neighbourhood  \n",
       "2                                            Parkwoods  \n",
       "3                                     Victoria Village  \n",
       "4                            Regent Park, Harbourfront  \n",
       "5                     Lawrence Manor, Lawrence Heights  \n",
       "6          Queen's Park, Ontario Provincial Government  \n",
       "..                                                 ...  \n",
       "160      The Kingsway, Montgomery Road, Old Mill North  \n",
       "165                               Church and Wellesley  \n",
       "168  Business reply mail Processing Centre, South C...  \n",
       "169  Old Mill South, King's Mill Park, Sunnylea, Hu...  \n",
       "178  Mimico NW, The Queensway West, South of Bloor,...  \n",
       "\n",
       "[103 rows x 3 columns]"
      ]
     },
     "execution_count": 6,
     "metadata": {},
     "output_type": "execute_result"
    }
   ],
   "source": [
    "# get names of indexes for which \n",
    "# column Borough has Not assigned\n",
    "index_names = toronto_neighborhood[toronto_neighborhood['Borough'] == 'Not assigned' ].index \n",
    "\n",
    "# dropiing every entry in the Borough column that has 'Not assigned' as entry\n",
    "toronto_neighborhood.drop(index_names, inplace = True)   \n",
    "toronto_neighborhood"
   ]
  },
  {
   "cell_type": "code",
   "execution_count": 7,
   "metadata": {},
   "outputs": [
    {
     "data": {
      "text/html": [
       "<div>\n",
       "<style scoped>\n",
       "    .dataframe tbody tr th:only-of-type {\n",
       "        vertical-align: middle;\n",
       "    }\n",
       "\n",
       "    .dataframe tbody tr th {\n",
       "        vertical-align: top;\n",
       "    }\n",
       "\n",
       "    .dataframe thead th {\n",
       "        text-align: right;\n",
       "    }\n",
       "</style>\n",
       "<table border=\"1\" class=\"dataframe\">\n",
       "  <thead>\n",
       "    <tr style=\"text-align: right;\">\n",
       "      <th></th>\n",
       "      <th>Postal Code</th>\n",
       "      <th>Borough</th>\n",
       "      <th>Neighbourhood</th>\n",
       "    </tr>\n",
       "  </thead>\n",
       "  <tbody>\n",
       "    <tr>\n",
       "      <th>0</th>\n",
       "      <td>M3A</td>\n",
       "      <td>North York</td>\n",
       "      <td>Parkwoods</td>\n",
       "    </tr>\n",
       "    <tr>\n",
       "      <th>1</th>\n",
       "      <td>M4A</td>\n",
       "      <td>North York</td>\n",
       "      <td>Victoria Village</td>\n",
       "    </tr>\n",
       "    <tr>\n",
       "      <th>2</th>\n",
       "      <td>M5A</td>\n",
       "      <td>Downtown Toronto</td>\n",
       "      <td>Regent Park, Harbourfront</td>\n",
       "    </tr>\n",
       "    <tr>\n",
       "      <th>3</th>\n",
       "      <td>M6A</td>\n",
       "      <td>North York</td>\n",
       "      <td>Lawrence Manor, Lawrence Heights</td>\n",
       "    </tr>\n",
       "    <tr>\n",
       "      <th>4</th>\n",
       "      <td>M7A</td>\n",
       "      <td>Downtown Toronto</td>\n",
       "      <td>Queen's Park, Ontario Provincial Government</td>\n",
       "    </tr>\n",
       "    <tr>\n",
       "      <th>...</th>\n",
       "      <td>...</td>\n",
       "      <td>...</td>\n",
       "      <td>...</td>\n",
       "    </tr>\n",
       "    <tr>\n",
       "      <th>98</th>\n",
       "      <td>M8X</td>\n",
       "      <td>Etobicoke</td>\n",
       "      <td>The Kingsway, Montgomery Road, Old Mill North</td>\n",
       "    </tr>\n",
       "    <tr>\n",
       "      <th>99</th>\n",
       "      <td>M4Y</td>\n",
       "      <td>Downtown Toronto</td>\n",
       "      <td>Church and Wellesley</td>\n",
       "    </tr>\n",
       "    <tr>\n",
       "      <th>100</th>\n",
       "      <td>M7Y</td>\n",
       "      <td>East Toronto</td>\n",
       "      <td>Business reply mail Processing Centre, South C...</td>\n",
       "    </tr>\n",
       "    <tr>\n",
       "      <th>101</th>\n",
       "      <td>M8Y</td>\n",
       "      <td>Etobicoke</td>\n",
       "      <td>Old Mill South, King's Mill Park, Sunnylea, Hu...</td>\n",
       "    </tr>\n",
       "    <tr>\n",
       "      <th>102</th>\n",
       "      <td>M8Z</td>\n",
       "      <td>Etobicoke</td>\n",
       "      <td>Mimico NW, The Queensway West, South of Bloor,...</td>\n",
       "    </tr>\n",
       "  </tbody>\n",
       "</table>\n",
       "<p>103 rows × 3 columns</p>\n",
       "</div>"
      ],
      "text/plain": [
       "    Postal Code           Borough  \\\n",
       "0           M3A        North York   \n",
       "1           M4A        North York   \n",
       "2           M5A  Downtown Toronto   \n",
       "3           M6A        North York   \n",
       "4           M7A  Downtown Toronto   \n",
       "..          ...               ...   \n",
       "98          M8X         Etobicoke   \n",
       "99          M4Y  Downtown Toronto   \n",
       "100         M7Y      East Toronto   \n",
       "101         M8Y         Etobicoke   \n",
       "102         M8Z         Etobicoke   \n",
       "\n",
       "                                         Neighbourhood  \n",
       "0                                            Parkwoods  \n",
       "1                                     Victoria Village  \n",
       "2                            Regent Park, Harbourfront  \n",
       "3                     Lawrence Manor, Lawrence Heights  \n",
       "4          Queen's Park, Ontario Provincial Government  \n",
       "..                                                 ...  \n",
       "98       The Kingsway, Montgomery Road, Old Mill North  \n",
       "99                                Church and Wellesley  \n",
       "100  Business reply mail Processing Centre, South C...  \n",
       "101  Old Mill South, King's Mill Park, Sunnylea, Hu...  \n",
       "102  Mimico NW, The Queensway West, South of Bloor,...  \n",
       "\n",
       "[103 rows x 3 columns]"
      ]
     },
     "execution_count": 7,
     "metadata": {},
     "output_type": "execute_result"
    }
   ],
   "source": [
    "# lET'S RESET THE INDEX OF OUR DATARFRAME\n",
    "toronto_neighborhood = toronto_neighborhood.reset_index(drop=True)\n",
    "toronto_neighborhood"
   ]
  },
  {
   "cell_type": "code",
   "execution_count": 8,
   "metadata": {},
   "outputs": [
    {
     "data": {
      "text/html": [
       "<div>\n",
       "<style scoped>\n",
       "    .dataframe tbody tr th:only-of-type {\n",
       "        vertical-align: middle;\n",
       "    }\n",
       "\n",
       "    .dataframe tbody tr th {\n",
       "        vertical-align: top;\n",
       "    }\n",
       "\n",
       "    .dataframe thead th {\n",
       "        text-align: right;\n",
       "    }\n",
       "</style>\n",
       "<table border=\"1\" class=\"dataframe\">\n",
       "  <thead>\n",
       "    <tr style=\"text-align: right;\">\n",
       "      <th></th>\n",
       "      <th>Postal Code</th>\n",
       "      <th>Borough</th>\n",
       "      <th>Neighbourhood</th>\n",
       "    </tr>\n",
       "  </thead>\n",
       "  <tbody>\n",
       "  </tbody>\n",
       "</table>\n",
       "</div>"
      ],
      "text/plain": [
       "Empty DataFrame\n",
       "Columns: [Postal Code, Borough, Neighbourhood]\n",
       "Index: []"
      ]
     },
     "execution_count": 8,
     "metadata": {},
     "output_type": "execute_result"
    }
   ],
   "source": [
    "missing = toronto_neighborhood[toronto_neighborhood['Neighbourhood'] == 'Not assigned']\n",
    "\n",
    "# checking for Not assigned data is still not present in the Neighborhood column\n",
    "missing"
   ]
  },
  {
   "cell_type": "code",
   "execution_count": 9,
   "metadata": {},
   "outputs": [
    {
     "data": {
      "text/plain": [
       "(103, 3)"
      ]
     },
     "execution_count": 9,
     "metadata": {},
     "output_type": "execute_result"
    }
   ],
   "source": [
    "toronto_neighborhood.shape\n",
    "# toronto_neighborhood[['Postal Code']]"
   ]
  },
  {
   "cell_type": "markdown",
   "metadata": {},
   "source": [
    "# UPDATING DATAFRAME WITH LATITUDE AND LONGITUDE COLUMNS"
   ]
  },
  {
   "cell_type": "code",
   "execution_count": 10,
   "metadata": {},
   "outputs": [
    {
     "name": "stdout",
     "output_type": "stream",
     "text": [
      "Requirement already satisfied: geocoder in c:\\users\\mail4\\appdata\\local\\programs\\python\\python38-32\\lib\\site-packages (1.38.1)\n",
      "Requirement already satisfied: requests in c:\\users\\mail4\\appdata\\local\\programs\\python\\python38-32\\lib\\site-packages (from geocoder) (2.24.0)\n",
      "Requirement already satisfied: future in c:\\users\\mail4\\appdata\\local\\programs\\python\\python38-32\\lib\\site-packages (from geocoder) (0.18.2)\n",
      "Requirement already satisfied: ratelim in c:\\users\\mail4\\appdata\\local\\programs\\python\\python38-32\\lib\\site-packages (from geocoder) (0.1.6)\n",
      "Requirement already satisfied: six in c:\\users\\mail4\\appdata\\local\\programs\\python\\python38-32\\lib\\site-packages (from geocoder) (1.15.0)\n",
      "Requirement already satisfied: click in c:\\users\\mail4\\appdata\\local\\programs\\python\\python38-32\\lib\\site-packages (from geocoder) (7.1.2)\n",
      "Requirement already satisfied: idna<3,>=2.5 in c:\\users\\mail4\\appdata\\local\\programs\\python\\python38-32\\lib\\site-packages (from requests->geocoder) (2.10)\n",
      "Requirement already satisfied: chardet<4,>=3.0.2 in c:\\users\\mail4\\appdata\\local\\programs\\python\\python38-32\\lib\\site-packages (from requests->geocoder) (3.0.4)\n",
      "Requirement already satisfied: certifi>=2017.4.17 in c:\\users\\mail4\\appdata\\local\\programs\\python\\python38-32\\lib\\site-packages (from requests->geocoder) (2020.6.20)\n",
      "Requirement already satisfied: urllib3!=1.25.0,!=1.25.1,<1.26,>=1.21.1 in c:\\users\\mail4\\appdata\\local\\programs\\python\\python38-32\\lib\\site-packages (from requests->geocoder) (1.25.10)\n",
      "Requirement already satisfied: decorator in c:\\users\\mail4\\appdata\\local\\programs\\python\\python38-32\\lib\\site-packages (from ratelim->geocoder) (4.4.2)\n"
     ]
    },
    {
     "name": "stderr",
     "output_type": "stream",
     "text": [
      "WARNING: You are using pip version 20.2.3; however, version 20.2.4 is available.\n",
      "You should consider upgrading via the 'c:\\users\\mail4\\appdata\\local\\programs\\python\\python38-32\\python.exe -m pip install --upgrade pip' command.\n"
     ]
    }
   ],
   "source": [
    "# import the geocoder library to find the lat and lng of the postal codes\n",
    "!pip install geocoder\n",
    "import geocoder"
   ]
  },
  {
   "cell_type": "markdown",
   "metadata": {},
   "source": [
    "## The geocoder library wasn't working and the csv file wasn't loading either.\n",
    "## So I decided to use pgeocode library instead which worked perfectly "
   ]
  },
  {
   "cell_type": "code",
   "execution_count": 11,
   "metadata": {},
   "outputs": [
    {
     "name": "stdout",
     "output_type": "stream",
     "text": [
      "Requirement already satisfied: pgeocode in c:\\users\\mail4\\appdata\\local\\programs\\python\\python38-32\\lib\\site-packages (0.2.1)\n",
      "Requirement already satisfied: requests in c:\\users\\mail4\\appdata\\local\\programs\\python\\python38-32\\lib\\site-packages (from pgeocode) (2.24.0)\n",
      "Requirement already satisfied: numpy in c:\\users\\mail4\\appdata\\local\\programs\\python\\python38-32\\lib\\site-packages (from pgeocode) (1.19.1)\n",
      "Requirement already satisfied: pandas in c:\\users\\mail4\\appdata\\local\\programs\\python\\python38-32\\lib\\site-packages (from pgeocode) (1.1.2)\n",
      "Requirement already satisfied: chardet<4,>=3.0.2 in c:\\users\\mail4\\appdata\\local\\programs\\python\\python38-32\\lib\\site-packages (from requests->pgeocode) (3.0.4)\n",
      "Requirement already satisfied: urllib3!=1.25.0,!=1.25.1,<1.26,>=1.21.1 in c:\\users\\mail4\\appdata\\local\\programs\\python\\python38-32\\lib\\site-packages (from requests->pgeocode) (1.25.10)\n",
      "Requirement already satisfied: certifi>=2017.4.17 in c:\\users\\mail4\\appdata\\local\\programs\\python\\python38-32\\lib\\site-packages (from requests->pgeocode) (2020.6.20)\n",
      "Requirement already satisfied: idna<3,>=2.5 in c:\\users\\mail4\\appdata\\local\\programs\\python\\python38-32\\lib\\site-packages (from requests->pgeocode) (2.10)\n",
      "Requirement already satisfied: python-dateutil>=2.7.3 in c:\\users\\mail4\\appdata\\local\\programs\\python\\python38-32\\lib\\site-packages (from pandas->pgeocode) (2.8.1)\n",
      "Requirement already satisfied: pytz>=2017.2 in c:\\users\\mail4\\appdata\\local\\programs\\python\\python38-32\\lib\\site-packages (from pandas->pgeocode) (2020.1)\n",
      "Requirement already satisfied: six>=1.5 in c:\\users\\mail4\\appdata\\local\\programs\\python\\python38-32\\lib\\site-packages (from python-dateutil>=2.7.3->pandas->pgeocode) (1.15.0)\n"
     ]
    },
    {
     "name": "stderr",
     "output_type": "stream",
     "text": [
      "WARNING: You are using pip version 20.2.3; however, version 20.2.4 is available.\n",
      "You should consider upgrading via the 'c:\\users\\mail4\\appdata\\local\\programs\\python\\python38-32\\python.exe -m pip install --upgrade pip' command.\n"
     ]
    }
   ],
   "source": [
    "!pip install pgeocode\n",
    "import pgeocode"
   ]
  },
  {
   "cell_type": "code",
   "execution_count": 11,
   "metadata": {},
   "outputs": [
    {
     "data": {
      "text/plain": [
       "[['M3A', 43.7545, -79.33],\n",
       " ['M4A', 43.7276, -79.3148],\n",
       " ['M5A', 43.6555, -79.3626],\n",
       " ['M6A', 43.7223, -79.4504],\n",
       " ['M7A', 43.6641, -79.3889],\n",
       " ['M9A', 43.6662, -79.5282],\n",
       " ['M1B', 43.8113, -79.193],\n",
       " ['M3B', 43.745, -79.359],\n",
       " ['M4B', 43.7063, -79.3094],\n",
       " ['M5B', 43.6572, -79.3783],\n",
       " ['M6B', 43.7081, -79.4479],\n",
       " ['M9B', 43.6505, -79.5517],\n",
       " ['M1C', 43.7878, -79.1564],\n",
       " ['M3C', 43.7334, -79.3329],\n",
       " ['M4C', 43.6913, -79.3116],\n",
       " ['M5C', 43.6513, -79.3756],\n",
       " ['M6C', 43.6915, -79.4307],\n",
       " ['M9C', 43.6437, -79.5767],\n",
       " ['M1E', 43.7678, -79.1866],\n",
       " ['M4E', 43.6784, -79.2941],\n",
       " ['M5E', 43.6456, -79.3754],\n",
       " ['M6E', 43.6889, -79.4507],\n",
       " ['M1G', 43.7712, -79.2144],\n",
       " ['M4G', 43.7124, -79.3644],\n",
       " ['M5G', 43.6564, -79.38600000000002],\n",
       " ['M6G', 43.6683, -79.4205],\n",
       " ['M1H', 43.7686, -79.2389],\n",
       " ['M2H', 43.8015, -79.3577],\n",
       " ['M3H', 43.7535, -79.4472],\n",
       " ['M4H', 43.7059, -79.3464],\n",
       " ['M5H', 43.6496, -79.3833],\n",
       " ['M6H', 43.6655, -79.4378],\n",
       " ['M1J', 43.7464, -79.2323],\n",
       " ['M2J', 43.7801, -79.3479],\n",
       " ['M3J', 43.7694, -79.4921],\n",
       " ['M4J', 43.6872, -79.3368],\n",
       " ['M5J', 43.62300000000001, -79.3936],\n",
       " ['M6J', 43.648, -79.4177],\n",
       " ['M1K', 43.7298, -79.2639],\n",
       " ['M2K', 43.7797, -79.3813],\n",
       " ['M3K', 43.739, -79.4692],\n",
       " ['M4K', 43.6803, -79.3538],\n",
       " ['M5K', 43.6469, -79.3823],\n",
       " ['M6K', 43.6383, -79.4301],\n",
       " ['M1L', 43.7122, -79.2843],\n",
       " ['M2L', 43.7547, -79.3764],\n",
       " ['M3L', 43.7334, -79.5116],\n",
       " ['M4L', 43.6693, -79.3155],\n",
       " ['M5L', 43.6492, -79.3823],\n",
       " ['M6L', 43.7137, -79.4869],\n",
       " ['M9L', 43.7598, -79.5565],\n",
       " ['M1M', 43.7247, -79.2312],\n",
       " ['M2M', 43.7915, -79.4103],\n",
       " ['M3M', 43.7319, -79.4928],\n",
       " ['M4M', 43.6561, -79.3406],\n",
       " ['M5M', 43.7335, -79.4177],\n",
       " ['M6M', 43.6934, -79.4857],\n",
       " ['M9M', 43.7366, -79.5401],\n",
       " ['M1N', 43.6952, -79.2646],\n",
       " ['M2N', 43.7673, -79.4111],\n",
       " ['M3N', 43.7568, -79.521],\n",
       " ['M4N', 43.7301, -79.3935],\n",
       " ['M5N', 43.7113, -79.4195],\n",
       " ['M6N', 43.6748, -79.4839],\n",
       " ['M9N', 43.7068, -79.517],\n",
       " ['M1P', 43.7612, -79.2707],\n",
       " ['M2P', 43.75, -79.3978],\n",
       " ['M4P', 43.7135, -79.3887],\n",
       " ['M5P', 43.6966, -79.41199999999998],\n",
       " ['M6P', 43.6605, -79.4633],\n",
       " ['M9P', 43.6949, -79.5323],\n",
       " ['M1R', 43.7507, -79.3003],\n",
       " ['M2R', 43.7786, -79.445],\n",
       " ['M4R', 43.7143, -79.4065],\n",
       " ['M5R', 43.6736, -79.4035],\n",
       " ['M6R', 43.6469, -79.4521],\n",
       " ['M7R', nan, nan],\n",
       " ['M9R', 43.6898, -79.5582],\n",
       " ['M1S', 43.7946, -79.2644],\n",
       " ['M4S', 43.702, -79.3853],\n",
       " ['M5S', 43.6629, -79.3987],\n",
       " ['M6S', 43.6512, -79.4828],\n",
       " ['M1T', 43.7812, -79.3036],\n",
       " ['M4T', 43.6899, -79.3853],\n",
       " ['M5T', 43.6541, -79.3978],\n",
       " ['M1V', 43.8177, -79.2819],\n",
       " ['M4V', 43.6861, -79.4025],\n",
       " ['M5V', 43.6404, -79.3995],\n",
       " ['M8V', 43.6075, -79.5013],\n",
       " ['M9V', 43.7432, -79.5876],\n",
       " ['M1W', 43.8016, -79.3216],\n",
       " ['M4W', 43.6827, -79.373],\n",
       " ['M5W', 43.6437, -79.3787],\n",
       " ['M8W', 43.6021, -79.5402],\n",
       " ['M9W', 43.7144, -79.5909],\n",
       " ['M1X', 43.834, -79.2069],\n",
       " ['M4X', 43.6684, -79.3689],\n",
       " ['M5X', 43.6492, -79.3823],\n",
       " ['M8X', 43.6518, -79.5076],\n",
       " ['M4Y', 43.6656, -79.383],\n",
       " ['M7Y', 43.7804, -79.2505],\n",
       " ['M8Y', 43.6325, -79.4939],\n",
       " ['M8Z', 43.6256, -79.5231]]"
      ]
     },
     "execution_count": 11,
     "metadata": {},
     "output_type": "execute_result"
    }
   ],
   "source": [
    "nomi = pgeocode.Nominatim('ca') # intializing the country to canada\n",
    "lat_lng = []\n",
    "code_lat_lng = []\n",
    "lat = None\n",
    "lng = None\n",
    "\n",
    "# for column in toronto_neighborhood[['Postal Code']]:\n",
    "# postal_codes = toronto_neighborhood['Postal Code'].values\n",
    "# postal_codes\n",
    "\n",
    "# postal_codes should contain a list of the codes after this loop\n",
    "for column in toronto_neighborhood[['Postal Code']]:\n",
    "    postal_codes = toronto_neighborhood[column].values\n",
    "\n",
    "#extracting lat and lng for all postal codes    \n",
    "for code in postal_codes:\n",
    "    #let's loop until we find both lat and lng incase we encounter None\n",
    "    while((lat == None) or (lng == None)):\n",
    "        df_lat_long = nomi.query_postal_code(code) # grabs the lat and lng for a postal code\n",
    "        lat = df_lat_long['latitude']\n",
    "        lng = df_lat_long['longitude']\n",
    "    \n",
    "#     print(\"Done with {}, Toronto, Ontario\".format(code))\n",
    "    lat_lng.append([lat, lng])\n",
    "    code_lat_lng.append([code, lat, lng])\n",
    "    lat = None\n",
    "    lng = None\n",
    "\n",
    "# lat_lng\n",
    "code_lat_lng"
   ]
  },
  {
   "cell_type": "markdown",
   "metadata": {},
   "source": [
    "## ['M7R', nan, nan] \n",
    "#### Latitude and Long for M7R wasn't returned so we'll update the dataframe by \n",
    "#### dropping the row(s) corresponding to the postal code"
   ]
  },
  {
   "cell_type": "code",
   "execution_count": 13,
   "metadata": {},
   "outputs": [
    {
     "ename": "NameError",
     "evalue": "name 'lat_lng' is not defined",
     "output_type": "error",
     "traceback": [
      "\u001b[1;31m----------------------------------------------------------------------\u001b[0m",
      "\u001b[1;31mNameError\u001b[0m                            Traceback (most recent call last)",
      "\u001b[1;32m<ipython-input-13-00b0bdf09047>\u001b[0m in \u001b[0;36m<module>\u001b[1;34m\u001b[0m\n\u001b[1;32m----> 1\u001b[1;33m \u001b[0mlen\u001b[0m\u001b[1;33m(\u001b[0m\u001b[0mlat_lng\u001b[0m\u001b[1;33m)\u001b[0m\u001b[1;33m,\u001b[0m \u001b[0mlen\u001b[0m\u001b[1;33m(\u001b[0m\u001b[0mpostal_codes\u001b[0m\u001b[1;33m)\u001b[0m\u001b[1;33m,\u001b[0m \u001b[0mtoronto_neighborhood\u001b[0m\u001b[1;33m.\u001b[0m\u001b[0mshape\u001b[0m\u001b[1;33m\u001b[0m\u001b[1;33m\u001b[0m\u001b[0m\n\u001b[0m\u001b[0;32m      2\u001b[0m \u001b[1;31m# toronto_neighborhood\u001b[0m\u001b[1;33m\u001b[0m\u001b[1;33m\u001b[0m\u001b[1;33m\u001b[0m\u001b[0m\n",
      "\u001b[1;31mNameError\u001b[0m: name 'lat_lng' is not defined"
     ]
    }
   ],
   "source": [
    "len(lat_lng), len(postal_codes), toronto_neighborhood.shape\n",
    "# toronto_neighborhood"
   ]
  },
  {
   "cell_type": "code",
   "execution_count": 13,
   "metadata": {},
   "outputs": [
    {
     "data": {
      "text/html": [
       "<div>\n",
       "<style scoped>\n",
       "    .dataframe tbody tr th:only-of-type {\n",
       "        vertical-align: middle;\n",
       "    }\n",
       "\n",
       "    .dataframe tbody tr th {\n",
       "        vertical-align: top;\n",
       "    }\n",
       "\n",
       "    .dataframe thead th {\n",
       "        text-align: right;\n",
       "    }\n",
       "</style>\n",
       "<table border=\"1\" class=\"dataframe\">\n",
       "  <thead>\n",
       "    <tr style=\"text-align: right;\">\n",
       "      <th></th>\n",
       "      <th>Postal Code</th>\n",
       "      <th>Borough</th>\n",
       "      <th>Neighbourhood</th>\n",
       "    </tr>\n",
       "  </thead>\n",
       "  <tbody>\n",
       "    <tr>\n",
       "      <th>76</th>\n",
       "      <td>M7R</td>\n",
       "      <td>Mississauga</td>\n",
       "      <td>Canada Post Gateway Processing Centre</td>\n",
       "    </tr>\n",
       "  </tbody>\n",
       "</table>\n",
       "</div>"
      ],
      "text/plain": [
       "   Postal Code      Borough                          Neighbourhood\n",
       "76         M7R  Mississauga  Canada Post Gateway Processing Centre"
      ]
     },
     "execution_count": 13,
     "metadata": {},
     "output_type": "execute_result"
    }
   ],
   "source": [
    "# let's find out the index of the entry for the code \"M7R\"\n",
    "# The postal code in the mississauga area is L4something and not M7R,\n",
    "# so it only makes sense to get rid of this outlier from our data\n",
    "toronto_neighborhood[toronto_neighborhood['Postal Code'] == 'M7R']"
   ]
  },
  {
   "cell_type": "code",
   "execution_count": 18,
   "metadata": {},
   "outputs": [],
   "source": [
    "toronto_neighborhood = toronto_neighborhood.drop([76])"
   ]
  },
  {
   "cell_type": "code",
   "execution_count": 21,
   "metadata": {},
   "outputs": [
    {
     "data": {
      "text/plain": [
       "[nan, nan]"
      ]
     },
     "execution_count": 21,
     "metadata": {},
     "output_type": "execute_result"
    }
   ],
   "source": [
    "#Now we can merge the drop the nan values from out lat and long befor adding to \n",
    "# our dataframe\n",
    "lat_lng[76]"
   ]
  },
  {
   "cell_type": "code",
   "execution_count": 22,
   "metadata": {},
   "outputs": [
    {
     "data": {
      "text/plain": [
       "[[43.7545, -79.33],\n",
       " [43.7276, -79.3148],\n",
       " [43.6555, -79.3626],\n",
       " [43.7223, -79.4504],\n",
       " [43.6641, -79.3889],\n",
       " [43.6662, -79.5282],\n",
       " [43.8113, -79.193],\n",
       " [43.745, -79.359],\n",
       " [43.7063, -79.3094],\n",
       " [43.6572, -79.3783],\n",
       " [43.7081, -79.4479],\n",
       " [43.6505, -79.5517],\n",
       " [43.7878, -79.1564],\n",
       " [43.7334, -79.3329],\n",
       " [43.6913, -79.3116],\n",
       " [43.6513, -79.3756],\n",
       " [43.6915, -79.4307],\n",
       " [43.6437, -79.5767],\n",
       " [43.7678, -79.1866],\n",
       " [43.6784, -79.2941],\n",
       " [43.6456, -79.3754],\n",
       " [43.6889, -79.4507],\n",
       " [43.7712, -79.2144],\n",
       " [43.7124, -79.3644],\n",
       " [43.6564, -79.38600000000002],\n",
       " [43.6683, -79.4205],\n",
       " [43.7686, -79.2389],\n",
       " [43.8015, -79.3577],\n",
       " [43.7535, -79.4472],\n",
       " [43.7059, -79.3464],\n",
       " [43.6496, -79.3833],\n",
       " [43.6655, -79.4378],\n",
       " [43.7464, -79.2323],\n",
       " [43.7801, -79.3479],\n",
       " [43.7694, -79.4921],\n",
       " [43.6872, -79.3368],\n",
       " [43.62300000000001, -79.3936],\n",
       " [43.648, -79.4177],\n",
       " [43.7298, -79.2639],\n",
       " [43.7797, -79.3813],\n",
       " [43.739, -79.4692],\n",
       " [43.6803, -79.3538],\n",
       " [43.6469, -79.3823],\n",
       " [43.6383, -79.4301],\n",
       " [43.7122, -79.2843],\n",
       " [43.7547, -79.3764],\n",
       " [43.7334, -79.5116],\n",
       " [43.6693, -79.3155],\n",
       " [43.6492, -79.3823],\n",
       " [43.7137, -79.4869],\n",
       " [43.7598, -79.5565],\n",
       " [43.7247, -79.2312],\n",
       " [43.7915, -79.4103],\n",
       " [43.7319, -79.4928],\n",
       " [43.6561, -79.3406],\n",
       " [43.7335, -79.4177],\n",
       " [43.6934, -79.4857],\n",
       " [43.7366, -79.5401],\n",
       " [43.6952, -79.2646],\n",
       " [43.7673, -79.4111],\n",
       " [43.7568, -79.521],\n",
       " [43.7301, -79.3935],\n",
       " [43.7113, -79.4195],\n",
       " [43.6748, -79.4839],\n",
       " [43.7068, -79.517],\n",
       " [43.7612, -79.2707],\n",
       " [43.75, -79.3978],\n",
       " [43.7135, -79.3887],\n",
       " [43.6966, -79.41199999999998],\n",
       " [43.6605, -79.4633],\n",
       " [43.6949, -79.5323],\n",
       " [43.7507, -79.3003],\n",
       " [43.7786, -79.445],\n",
       " [43.7143, -79.4065],\n",
       " [43.6736, -79.4035],\n",
       " [43.6469, -79.4521],\n",
       " [43.6898, -79.5582],\n",
       " [43.7946, -79.2644],\n",
       " [43.702, -79.3853],\n",
       " [43.6629, -79.3987],\n",
       " [43.6512, -79.4828],\n",
       " [43.7812, -79.3036],\n",
       " [43.6899, -79.3853],\n",
       " [43.6541, -79.3978],\n",
       " [43.8177, -79.2819],\n",
       " [43.6861, -79.4025],\n",
       " [43.6404, -79.3995],\n",
       " [43.6075, -79.5013],\n",
       " [43.7432, -79.5876],\n",
       " [43.8016, -79.3216],\n",
       " [43.6827, -79.373],\n",
       " [43.6437, -79.3787],\n",
       " [43.6021, -79.5402],\n",
       " [43.7144, -79.5909],\n",
       " [43.834, -79.2069],\n",
       " [43.6684, -79.3689],\n",
       " [43.6492, -79.3823],\n",
       " [43.6518, -79.5076],\n",
       " [43.6656, -79.383],\n",
       " [43.7804, -79.2505],\n",
       " [43.6325, -79.4939],\n",
       " [43.6256, -79.5231]]"
      ]
     },
     "execution_count": 22,
     "metadata": {},
     "output_type": "execute_result"
    }
   ],
   "source": [
    "del lat_lng[76]\n",
    "lat_lng"
   ]
  },
  {
   "cell_type": "code",
   "execution_count": 23,
   "metadata": {},
   "outputs": [
    {
     "data": {
      "text/plain": [
       "(102, (102, 3))"
      ]
     },
     "execution_count": 23,
     "metadata": {},
     "output_type": "execute_result"
    }
   ],
   "source": [
    "# making sure we have consistency with dataframe and lat_lng list\n",
    "len(lat_lng), toronto_neighborhood.shape"
   ]
  },
  {
   "cell_type": "code",
   "execution_count": 24,
   "metadata": {},
   "outputs": [
    {
     "data": {
      "text/html": [
       "<div>\n",
       "<style scoped>\n",
       "    .dataframe tbody tr th:only-of-type {\n",
       "        vertical-align: middle;\n",
       "    }\n",
       "\n",
       "    .dataframe tbody tr th {\n",
       "        vertical-align: top;\n",
       "    }\n",
       "\n",
       "    .dataframe thead th {\n",
       "        text-align: right;\n",
       "    }\n",
       "</style>\n",
       "<table border=\"1\" class=\"dataframe\">\n",
       "  <thead>\n",
       "    <tr style=\"text-align: right;\">\n",
       "      <th></th>\n",
       "      <th>Postal Code</th>\n",
       "      <th>Borough</th>\n",
       "      <th>Neighbourhood</th>\n",
       "    </tr>\n",
       "  </thead>\n",
       "  <tbody>\n",
       "    <tr>\n",
       "      <th>0</th>\n",
       "      <td>M3A</td>\n",
       "      <td>North York</td>\n",
       "      <td>Parkwoods</td>\n",
       "    </tr>\n",
       "    <tr>\n",
       "      <th>1</th>\n",
       "      <td>M4A</td>\n",
       "      <td>North York</td>\n",
       "      <td>Victoria Village</td>\n",
       "    </tr>\n",
       "    <tr>\n",
       "      <th>2</th>\n",
       "      <td>M5A</td>\n",
       "      <td>Downtown Toronto</td>\n",
       "      <td>Regent Park, Harbourfront</td>\n",
       "    </tr>\n",
       "    <tr>\n",
       "      <th>3</th>\n",
       "      <td>M6A</td>\n",
       "      <td>North York</td>\n",
       "      <td>Lawrence Manor, Lawrence Heights</td>\n",
       "    </tr>\n",
       "    <tr>\n",
       "      <th>4</th>\n",
       "      <td>M7A</td>\n",
       "      <td>Downtown Toronto</td>\n",
       "      <td>Queen's Park, Ontario Provincial Government</td>\n",
       "    </tr>\n",
       "    <tr>\n",
       "      <th>...</th>\n",
       "      <td>...</td>\n",
       "      <td>...</td>\n",
       "      <td>...</td>\n",
       "    </tr>\n",
       "    <tr>\n",
       "      <th>97</th>\n",
       "      <td>M8X</td>\n",
       "      <td>Etobicoke</td>\n",
       "      <td>The Kingsway, Montgomery Road, Old Mill North</td>\n",
       "    </tr>\n",
       "    <tr>\n",
       "      <th>98</th>\n",
       "      <td>M4Y</td>\n",
       "      <td>Downtown Toronto</td>\n",
       "      <td>Church and Wellesley</td>\n",
       "    </tr>\n",
       "    <tr>\n",
       "      <th>99</th>\n",
       "      <td>M7Y</td>\n",
       "      <td>East Toronto</td>\n",
       "      <td>Business reply mail Processing Centre, South C...</td>\n",
       "    </tr>\n",
       "    <tr>\n",
       "      <th>100</th>\n",
       "      <td>M8Y</td>\n",
       "      <td>Etobicoke</td>\n",
       "      <td>Old Mill South, King's Mill Park, Sunnylea, Hu...</td>\n",
       "    </tr>\n",
       "    <tr>\n",
       "      <th>101</th>\n",
       "      <td>M8Z</td>\n",
       "      <td>Etobicoke</td>\n",
       "      <td>Mimico NW, The Queensway West, South of Bloor,...</td>\n",
       "    </tr>\n",
       "  </tbody>\n",
       "</table>\n",
       "<p>102 rows × 3 columns</p>\n",
       "</div>"
      ],
      "text/plain": [
       "    Postal Code           Borough  \\\n",
       "0           M3A        North York   \n",
       "1           M4A        North York   \n",
       "2           M5A  Downtown Toronto   \n",
       "3           M6A        North York   \n",
       "4           M7A  Downtown Toronto   \n",
       "..          ...               ...   \n",
       "97          M8X         Etobicoke   \n",
       "98          M4Y  Downtown Toronto   \n",
       "99          M7Y      East Toronto   \n",
       "100         M8Y         Etobicoke   \n",
       "101         M8Z         Etobicoke   \n",
       "\n",
       "                                         Neighbourhood  \n",
       "0                                            Parkwoods  \n",
       "1                                     Victoria Village  \n",
       "2                            Regent Park, Harbourfront  \n",
       "3                     Lawrence Manor, Lawrence Heights  \n",
       "4          Queen's Park, Ontario Provincial Government  \n",
       "..                                                 ...  \n",
       "97       The Kingsway, Montgomery Road, Old Mill North  \n",
       "98                                Church and Wellesley  \n",
       "99   Business reply mail Processing Centre, South C...  \n",
       "100  Old Mill South, King's Mill Park, Sunnylea, Hu...  \n",
       "101  Mimico NW, The Queensway West, South of Bloor,...  \n",
       "\n",
       "[102 rows x 3 columns]"
      ]
     },
     "execution_count": 24,
     "metadata": {},
     "output_type": "execute_result"
    }
   ],
   "source": [
    "toronto_neighborhood = toronto_neighborhood.reset_index(drop=True)\n",
    "toronto_neighborhood"
   ]
  },
  {
   "cell_type": "code",
   "execution_count": 38,
   "metadata": {},
   "outputs": [
    {
     "data": {
      "text/html": [
       "<div>\n",
       "<style scoped>\n",
       "    .dataframe tbody tr th:only-of-type {\n",
       "        vertical-align: middle;\n",
       "    }\n",
       "\n",
       "    .dataframe tbody tr th {\n",
       "        vertical-align: top;\n",
       "    }\n",
       "\n",
       "    .dataframe thead th {\n",
       "        text-align: right;\n",
       "    }\n",
       "</style>\n",
       "<table border=\"1\" class=\"dataframe\">\n",
       "  <thead>\n",
       "    <tr style=\"text-align: right;\">\n",
       "      <th></th>\n",
       "      <th>Postal Code</th>\n",
       "      <th>Borough</th>\n",
       "      <th>Neighbourhood</th>\n",
       "      <th>Latitude</th>\n",
       "      <th>Longitude</th>\n",
       "    </tr>\n",
       "  </thead>\n",
       "  <tbody>\n",
       "    <tr>\n",
       "      <th>0</th>\n",
       "      <td>M3A</td>\n",
       "      <td>North York</td>\n",
       "      <td>Parkwoods</td>\n",
       "      <td>43.7545</td>\n",
       "      <td>-79.3300</td>\n",
       "    </tr>\n",
       "    <tr>\n",
       "      <th>1</th>\n",
       "      <td>M4A</td>\n",
       "      <td>North York</td>\n",
       "      <td>Victoria Village</td>\n",
       "      <td>43.7276</td>\n",
       "      <td>-79.3148</td>\n",
       "    </tr>\n",
       "    <tr>\n",
       "      <th>2</th>\n",
       "      <td>M5A</td>\n",
       "      <td>Downtown Toronto</td>\n",
       "      <td>Regent Park, Harbourfront</td>\n",
       "      <td>43.6555</td>\n",
       "      <td>-79.3626</td>\n",
       "    </tr>\n",
       "    <tr>\n",
       "      <th>3</th>\n",
       "      <td>M6A</td>\n",
       "      <td>North York</td>\n",
       "      <td>Lawrence Manor, Lawrence Heights</td>\n",
       "      <td>43.7223</td>\n",
       "      <td>-79.4504</td>\n",
       "    </tr>\n",
       "    <tr>\n",
       "      <th>4</th>\n",
       "      <td>M7A</td>\n",
       "      <td>Downtown Toronto</td>\n",
       "      <td>Queen's Park, Ontario Provincial Government</td>\n",
       "      <td>43.6641</td>\n",
       "      <td>-79.3889</td>\n",
       "    </tr>\n",
       "    <tr>\n",
       "      <th>5</th>\n",
       "      <td>M9A</td>\n",
       "      <td>Etobicoke</td>\n",
       "      <td>Islington Avenue, Humber Valley Village</td>\n",
       "      <td>43.6662</td>\n",
       "      <td>-79.5282</td>\n",
       "    </tr>\n",
       "    <tr>\n",
       "      <th>6</th>\n",
       "      <td>M1B</td>\n",
       "      <td>Scarborough</td>\n",
       "      <td>Malvern, Rouge</td>\n",
       "      <td>43.8113</td>\n",
       "      <td>-79.1930</td>\n",
       "    </tr>\n",
       "    <tr>\n",
       "      <th>7</th>\n",
       "      <td>M3B</td>\n",
       "      <td>North York</td>\n",
       "      <td>Don Mills</td>\n",
       "      <td>43.7450</td>\n",
       "      <td>-79.3590</td>\n",
       "    </tr>\n",
       "    <tr>\n",
       "      <th>8</th>\n",
       "      <td>M4B</td>\n",
       "      <td>East York</td>\n",
       "      <td>Parkview Hill, Woodbine Gardens</td>\n",
       "      <td>43.7063</td>\n",
       "      <td>-79.3094</td>\n",
       "    </tr>\n",
       "    <tr>\n",
       "      <th>9</th>\n",
       "      <td>M5B</td>\n",
       "      <td>Downtown Toronto</td>\n",
       "      <td>Garden District, Ryerson</td>\n",
       "      <td>43.6572</td>\n",
       "      <td>-79.3783</td>\n",
       "    </tr>\n",
       "  </tbody>\n",
       "</table>\n",
       "</div>"
      ],
      "text/plain": [
       "  Postal Code           Borough                                Neighbourhood  \\\n",
       "0         M3A        North York                                    Parkwoods   \n",
       "1         M4A        North York                             Victoria Village   \n",
       "2         M5A  Downtown Toronto                    Regent Park, Harbourfront   \n",
       "3         M6A        North York             Lawrence Manor, Lawrence Heights   \n",
       "4         M7A  Downtown Toronto  Queen's Park, Ontario Provincial Government   \n",
       "5         M9A         Etobicoke      Islington Avenue, Humber Valley Village   \n",
       "6         M1B       Scarborough                               Malvern, Rouge   \n",
       "7         M3B        North York                                    Don Mills   \n",
       "8         M4B         East York              Parkview Hill, Woodbine Gardens   \n",
       "9         M5B  Downtown Toronto                     Garden District, Ryerson   \n",
       "\n",
       "   Latitude  Longitude  \n",
       "0   43.7545   -79.3300  \n",
       "1   43.7276   -79.3148  \n",
       "2   43.6555   -79.3626  \n",
       "3   43.7223   -79.4504  \n",
       "4   43.6641   -79.3889  \n",
       "5   43.6662   -79.5282  \n",
       "6   43.8113   -79.1930  \n",
       "7   43.7450   -79.3590  \n",
       "8   43.7063   -79.3094  \n",
       "9   43.6572   -79.3783  "
      ]
     },
     "execution_count": 38,
     "metadata": {},
     "output_type": "execute_result"
    }
   ],
   "source": [
    "# lat_lng now contains a list of lists containing the lat and long for each codes\n",
    "# We need to prepare a lat_lng list so that it can be inserted into the dataframe called toronto_neighborhood\n",
    "\n",
    "\n",
    "Latitude = []\n",
    "Longitude = []\n",
    "for i in range(len(lat_lng)):\n",
    "    Latitude.append(lat_lng[i][0])\n",
    "    Longitude.append(lat_lng[i][1])\n",
    "\n",
    "# print(Latitude[101])\n",
    "# print(Longitude[101])\n",
    "\n",
    "# Add Longitude and Latitude lits as columns into the dataframe\n",
    "toronto_neighborhood = toronto_neighborhood.assign(**{'Latitude' : Latitude, 'Longitude' : Longitude})\n",
    "toronto_neighborhood.head(10)"
   ]
  },
  {
   "cell_type": "code",
   "execution_count": null,
   "metadata": {},
   "outputs": [],
   "source": []
  }
 ],
 "metadata": {
  "kernelspec": {
   "display_name": "Python 3",
   "language": "python",
   "name": "python3"
  },
  "language_info": {
   "codemirror_mode": {
    "name": "ipython",
    "version": 3
   },
   "file_extension": ".py",
   "mimetype": "text/x-python",
   "name": "python",
   "nbconvert_exporter": "python",
   "pygments_lexer": "ipython3",
   "version": "3.8.5"
  }
 },
 "nbformat": 4,
 "nbformat_minor": 4
}
